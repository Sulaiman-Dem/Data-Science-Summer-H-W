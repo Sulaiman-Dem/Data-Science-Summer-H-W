{
 "cells": [
  {
   "cell_type": "markdown",
   "metadata": {},
   "source": [
    "# Problem Alphabet Slices\n",
    "* Store the first ten letters of the alphabet in a list.\n",
    "* Use a slice to print out the first three letters of the alphabet.\n",
    "* Use a slice to print out any three letters from the middle of your list."
   ]
  },
  {
   "cell_type": "code",
   "execution_count": 10,
   "metadata": {},
   "outputs": [
    {
     "name": "stdout",
     "output_type": "stream",
     "text": [
      "firstThreeElements ['a', 'b', 'c']\n",
      "middleThreeElements ['d', 'e', 'f']\n"
     ]
    }
   ],
   "source": [
    "# Solve Alphabet slices here. \n",
    "myList = ['a','b','c','d','e','f','g','h','i','j']\n",
    "firstThreeElements = myList[0:3]\n",
    "print('firstThreeElements',firstThreeElements)\n",
    "middleThreeElements = myList[3:6]\n",
    "print('middleThreeElements',middleThreeElements)\n",
    "\n"
   ]
  },
  {
   "cell_type": "markdown",
   "metadata": {},
   "source": [
    "# Problem:  Covert all the rapper names to title case and save them into a new different list. \n",
    "example: lil wayne becomes Lil Wayne"
   ]
  },
  {
   "cell_type": "code",
   "execution_count": 1,
   "metadata": {},
   "outputs": [
    {
     "name": "stdout",
     "output_type": "stream",
     "text": [
      "['Lil Wayne', 'Nicki Minaj', 'Drake']\n"
     ]
    }
   ],
   "source": [
    "# Solve rapper names here\n",
    "rappers = ['lil wayne', 'nicki minaj', 'drake']\n",
    "\n",
    "caseTitleRappers = []\n",
    "\n",
    "for names in rappers:\n",
    "    caseTitleRappers.append(names.title())\n",
    "\n",
    "\n",
    "print(caseTitleRappers)\n",
    "\n",
    "\n"
   ]
  },
  {
   "cell_type": "markdown",
   "metadata": {},
   "source": [
    "# Problem: Write a function thats input is a number and output is:\n",
    "* Return True if the input number is even.\n",
    "* Return False if the input number is odd."
   ]
  },
  {
   "cell_type": "code",
   "execution_count": 23,
   "metadata": {},
   "outputs": [
    {
     "data": {
      "text/plain": [
       "'Odd'"
      ]
     },
     "execution_count": 23,
     "metadata": {},
     "output_type": "execute_result"
    }
   ],
   "source": [
    "# Solve problem here\n",
    "def oddOrEven(x):\n",
    "\n",
    "    if x % 2 == 0:\n",
    "        return True\n",
    "    else:\n",
    "        return False\n",
    "\n",
    "userInput = int(input(\"Input only a number\"))\n",
    "oddOrEven(userInput)\n"
   ]
  },
  {
   "cell_type": "markdown",
   "metadata": {},
   "source": [
    "# Problem: Find the sum and the average of this list of numbers.\n",
    "\n",
    "Try doing this using a loop.  Then try doing this without using a loop. "
   ]
  },
  {
   "cell_type": "code",
   "execution_count": 19,
   "metadata": {},
   "outputs": [
    {
     "name": "stdout",
     "output_type": "stream",
     "text": [
      "Sum 353\n",
      "Avg 35.3\n"
     ]
    }
   ],
   "source": [
    "#Solve problem here:\n",
    "#! non - loop \n",
    "my_list = [1, 5, 10, 55, 88, 44, 42, 50, 20, 38]\n",
    "list_sum = sum(my_list)\n",
    "list_avg = list_sum / len(my_list)\n",
    "\n",
    "print('Sum',list_sum)\n",
    "print('Avg',list_avg)"
   ]
  },
  {
   "cell_type": "code",
   "execution_count": 4,
   "metadata": {},
   "outputs": [
    {
     "name": "stdout",
     "output_type": "stream",
     "text": [
      "None\n"
     ]
    }
   ],
   "source": [
    "#! Loop Had issues doing this and tried a few things with this \n",
    "my_list2 = [1, 5, 10, 55, 88, 44, 42, 50, 20, 38]\n",
    "\n",
    "def list2(my_list):\n",
    "    total = 0\n",
    "    index = 0\n",
    "    for number in my_list:\n",
    "        total += number\n",
    "        index += 1\n",
    "        if (index == None):\n",
    "            print(my_list[-2])\n",
    "\n",
    "print(list2(my_list2))"
   ]
  },
  {
   "cell_type": "code",
   "execution_count": 1,
   "metadata": {},
   "outputs": [
    {
     "name": "stdout",
     "output_type": "stream",
     "text": [
      "1 1 0.0\n",
      "2 6 0.0\n",
      "3 16 0.0\n",
      "4 71 0.0\n",
      "5 159 0.0\n",
      "6 203 0.0\n",
      "7 245 0.0\n",
      "8 295 0.0\n",
      "9 315 0.0\n",
      "10 353 0.0\n",
      "None\n"
     ]
    }
   ],
   "source": [
    "#! Loop \n",
    "my_list2 = [1, 5, 10, 55, 88, 44, 42, 50, 20, 38]\n",
    "\n",
    "def list2(my_list):\n",
    "    total = 0\n",
    "    index = 0\n",
    "    sumTotal = 0\n",
    "    for number in my_list:\n",
    "        total += number\n",
    "        index += 1\n",
    "\n",
    "        if (index == None):\n",
    "            print(index - 1)\n",
    "        print(index,total,(sumTotal) / 2)\n",
    "\n",
    "print(list2(my_list2))"
   ]
  },
  {
   "cell_type": "code",
   "execution_count": 10,
   "metadata": {},
   "outputs": [
    {
     "name": "stdout",
     "output_type": "stream",
     "text": [
      "None\n"
     ]
    }
   ],
   "source": [
    "# Keep this as your last line in this cell.\n",
    "# print(list_sum, list_average)"
   ]
  },
  {
   "cell_type": "markdown",
   "metadata": {},
   "source": [
    "# Problem: Write a function that input is a number and output returns the following\n",
    "* If the input is divisible by three, return 'fizz'\n",
    "* If the input is divisible by five, return 'buzz'\n",
    "* If the input is divisible by three and by five, return 'fizzbuzz'\n",
    "* If the input is not divisible by three or five, return None."
   ]
  },
  {
   "cell_type": "code",
   "execution_count": 30,
   "metadata": {},
   "outputs": [
    {
     "data": {
      "text/plain": [
       "'None'"
      ]
     },
     "execution_count": 30,
     "metadata": {},
     "output_type": "execute_result"
    }
   ],
   "source": [
    "# Solve Problem fizzbuzz here:\n",
    "def oddOrEven(x):\n",
    "\n",
    "    if x % 5 == 0 and x % 3 == 0:\n",
    "        return \"fizzbuzz\"\n",
    "    elif x % 3 == 0:\n",
    "        return \"fizz\"\n",
    "    elif x % 5 == 0:\n",
    "        return \"buzz\"\n",
    "    else:\n",
    "        return \"None\"\n",
    "\n",
    "userInput = int(input(\"Input only a number\"))\n",
    "oddOrEven(userInput)"
   ]
  },
  {
   "cell_type": "markdown",
   "metadata": {},
   "source": [
    "# Problem: \n",
    "Write a function that takes a list and returns a new list that contains all the elements of the first list minus all the duplicates.\n",
    "\n",
    "Example input and expected output\n",
    "\n",
    "input = [\"Michele\", \"Robin\", \"Sara\", \"Michele\"]\n",
    "\n",
    "expected output = ['Michele', 'Robin', 'Sara']\n"
   ]
  },
  {
   "cell_type": "code",
   "execution_count": 3,
   "metadata": {},
   "outputs": [
    {
     "name": "stdout",
     "output_type": "stream",
     "text": [
      "['Michele', 'Robin', 'Sara']\n"
     ]
    }
   ],
   "source": [
    "# Solve problem here:\n",
    "def removeDups(myList):\n",
    "    return list(dict.fromkeys(myList))\n",
    "\n",
    "people = [\"Michele\", \"Robin\", \"Sara\", \"Michele\"]\n",
    "\n",
    "newList = removeDups(people)\n",
    "\n",
    "print(newList)\n"
   ]
  },
  {
   "cell_type": "markdown",
   "metadata": {},
   "source": [
    "# Problem: \n",
    "Write a function that takes a list of numbers (for example, a = [5, 10, 15, 20, 25]) and returns a new list of only the first and last elements of the given list.\n",
    "\n",
    "Example input and expected output:\n",
    "\n",
    "input = [5, 10, 15, 20, 25]\n",
    "\n",
    "expected output = [5, 25]"
   ]
  },
  {
   "cell_type": "code",
   "execution_count": 16,
   "metadata": {},
   "outputs": [
    {
     "data": {
      "text/plain": [
       "(5, 25)"
      ]
     },
     "execution_count": 16,
     "metadata": {},
     "output_type": "execute_result"
    }
   ],
   "source": [
    "# Solve problem here:\n",
    "input_list = [5, 10, 99, 20, 25]\n",
    "\n",
    "def firstLastElement(x):\n",
    "    first = x[0]\n",
    "    last = x[-1]\n",
    "    return(first, last)\n",
    "\n",
    "firstLastElement(input_list)"
   ]
  },
  {
   "cell_type": "markdown",
   "metadata": {},
   "source": [
    "# Problem:  Implement a function that takes as input three variables, and returns the largest of the three. \n",
    "Do this without using the Python max() function! \n",
    "_*Note all three input numbers will always be different, no need to account for a tie._\n",
    "\n",
    "Example input and expected output:\n",
    "\n",
    "input = your_function(1, 5, 10)\n",
    "\n",
    "expected output:  10"
   ]
  },
  {
   "cell_type": "code",
   "execution_count": 32,
   "metadata": {},
   "outputs": [],
   "source": [
    "# Solve Problem here:\n",
    "\n",
    "def your_function(a, b, c):\n",
    "    # Fill in your code below and return max value of a, b, c\n",
    "    if a > b and a > c:\n",
    "        print (a)\n",
    "    elif b > a and b > c:\n",
    "        print (b)\n",
    "    else:\n",
    "        print (c)"
   ]
  },
  {
   "cell_type": "code",
   "execution_count": 40,
   "metadata": {},
   "outputs": [
    {
     "name": "stdout",
     "output_type": "stream",
     "text": [
      "8\n"
     ]
    }
   ],
   "source": [
    "# Test to see if your function works properly.\n",
    "your_function(8, 0, 1)"
   ]
  }
 ],
 "metadata": {
  "kernelspec": {
   "display_name": "Python 3",
   "language": "python",
   "name": "python3"
  },
  "language_info": {
   "codemirror_mode": {
    "name": "ipython",
    "version": 3
   },
   "file_extension": ".py",
   "mimetype": "text/x-python",
   "name": "python",
   "nbconvert_exporter": "python",
   "pygments_lexer": "ipython3",
   "version": "3.11.3"
  }
 },
 "nbformat": 4,
 "nbformat_minor": 4
}
