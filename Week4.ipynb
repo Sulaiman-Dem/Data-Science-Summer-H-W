{
 "cells": [
  {
   "cell_type": "markdown",
   "metadata": {},
   "source": [
    "# List Overlap \n",
    "Write a program that returns a list that contains only the elements that are common between the lists (without duplicates). Make sure your program works on two lists of different sizes."
   ]
  },
  {
   "cell_type": "code",
   "execution_count": null,
   "metadata": {},
   "outputs": [],
   "source": [
    "a = [1, 1, 2, 3, 5, 8, 13, 21, 34, 55, 89]\n",
    "b = [1, 2, 3, 4, 5, 6, 7, 8, 9, 10, 11, 12, 13]\n",
    "\n",
    "new_list = set(a) & set(b)\n",
    "\n",
    "print(new_list)\n"
   ]
  },
  {
   "cell_type": "markdown",
   "metadata": {},
   "source": [
    "# Rock Paper Scissors\n",
    "\n",
    "Make a two-player Rock-Paper-Scissors game. (Hint: Ask for player plays (using input), compare them, print out a message of congratulations to the winner.)\n",
    "\n",
    "Remember the rules:\n",
    "\n",
    "* Rock beats scissors\n",
    "* Scissors beats paper\n",
    "* Paper beats rock"
   ]
  },
  {
   "cell_type": "code",
   "execution_count": null,
   "metadata": {},
   "outputs": [],
   "source": [
    "import sys\n",
    "Rock = 1\n",
    "Scissors = 2\n",
    "Paper = 3\n",
    "\n",
    "\n",
    "player_one = input(\"Enter your name:\")\n",
    "player_two = input(\"Enter your name:\")\n",
    "\n",
    "player_one_input = int(input(\"Player One make a choice with the list below\\nRock = 1\\n Scissors = 2\\nPaper = 3\"))\n",
    "player_two_input = int(input(\"Player Two make a choice with the list below\\nRock = 1\\n Scissors = 2\\nPaper = 3\"))\n",
    "\n",
    "def get_results(player_one_input, player_two_input):\n",
    "    if player_one_input == player_two_input:\n",
    "        return(\"It's a tie!\")\n",
    "    elif player_one_input == Rock:\n",
    "        if player_two_input == Scissors:\n",
    "            return player_one, \"Wins\"\n",
    "        else:\n",
    "            return(player_two, \"Wins\")\n",
    "    elif player_one_input == Scissors:\n",
    "        if player_two_input == Paper:\n",
    "            return(player_one, \"Wins\")\n",
    "        else:\n",
    "            return(player_two, \"Wins\")\n",
    "    elif player_one_input == Paper:\n",
    "        if player_two_input == Rock:\n",
    "            return(player_one, \"Wins\")\n",
    "        else:\n",
    "            return(player_two, \"Wins\")\n",
    "    else:\n",
    "        return(\"Invalid input! You have not entered 1, 2 or 3, try again.\")\n",
    "        sys.exit()\n",
    "\n",
    "\n",
    "\n",
    "print(get_results(player_one_input, player_two_input))\n"
   ]
  },
  {
   "cell_type": "markdown",
   "metadata": {},
   "source": [
    "# Palindrome \n",
    "\n",
    "Ask the user for a string and print out whether this string is a palindrome or not. (A palindrome is a string that reads the same forwards and backwards.)"
   ]
  },
  {
   "cell_type": "code",
   "execution_count": null,
   "metadata": {},
   "outputs": [],
   "source": [
    "# my own solution that does not work properly\n",
    "user_input = input(\"Input a word:\")\n",
    "\n",
    "def convert(string):\n",
    "    user_input_list = []\n",
    "    user_input_list[:0] = string\n",
    "    return user_input_list\n",
    "\n",
    "def palindrome(user_input_list):\n",
    "    palindrome_calculator = user_input_list.reverse()\n",
    "\n",
    "    if (palindrome_calculator == user_input_list):\n",
    "        return (\"This is a palindrome\")\n",
    "    else:\n",
    "        return (\"This is not a palindrome\")\n",
    "\n",
    "user_input_list = convert(user_input)\n",
    "\n",
    "print(palindrome(user_input_list))\n",
    "\n",
    "    "
   ]
  },
  {
   "cell_type": "code",
   "execution_count": null,
   "metadata": {},
   "outputs": [],
   "source": [
    "#Solution I learned from online research\n",
    "user_input = input(\"Input a word:\")\n",
    "\n",
    "if user_input[::-1] == user_input[0:]: \n",
    "\tprint(user_input, \"is a palindrome\")\n",
    "else:\n",
    "\tprint(user_input, \"is not a palindrome\")"
   ]
  },
  {
   "cell_type": "markdown",
   "metadata": {},
   "source": [
    "# Password Generator\n",
    "Write a password generator in Python. Be creative with how you generate passwords - strong passwords have a mix of lowercase letters, uppercase letters, numbers, and symbols. The passwords should be random.  Ask the user to input how long they want their password to be. "
   ]
  },
  {
   "cell_type": "code",
   "execution_count": null,
   "metadata": {},
   "outputs": [],
   "source": [
    "chars = \"abcdefghijklmnopqrstuvwxyz01234567890ABCDEFGHIJKLMNOPQRSTUVWXYZ!@#$%^&*()?\"\n",
    "\n",
    "import random\n",
    "user_password_length = int(input(\"Password length:\"))\n",
    "\n",
    "random_password = [random.choice(chars) for i in range(user_password_length)]\n",
    "\n",
    "print(random_password)\n"
   ]
  },
  {
   "cell_type": "markdown",
   "metadata": {},
   "source": [
    "# Divisors Solutions\n",
    "\n",
    "Create a program that asks the user for a number and then prints out a list of all the divisors of that number. (If you don’t know what a divisor is, it is a number that divides evenly into another number. For example, 13 is a divisor of 26 because 26 / 13 has no remainder.)"
   ]
  },
  {
   "cell_type": "code",
   "execution_count": null,
   "metadata": {},
   "outputs": [],
   "source": [
    "user_input = int(input(\"Enter a number:\"))\n",
    "\n",
    "counter = 1\n",
    "\n",
    "while counter < user_input:\n",
    "    counter+=1\n",
    "    if user_input % counter == 0:\n",
    "        print (counter)\n",
    "\n",
    "\n"
   ]
  },
  {
   "cell_type": "markdown",
   "metadata": {},
   "source": [
    "# Missing Character\n",
    "Given a non-empty string and an int n, return a new string where the char at index n has been removed. The value of n will be a valid index of a char in the original string (i.e. n will be in the range 0..len(str)-1 inclusive).\n",
    "\n",
    "```\n",
    "missing_char('kitten', 1) → 'ktten'\n",
    "missing_char('kitten', 0) → 'itten'\n",
    "missing_char('kitten', 4) → 'kittn'\n",
    "\n",
    "```"
   ]
  },
  {
   "cell_type": "code",
   "execution_count": null,
   "metadata": {},
   "outputs": [],
   "source": [
    "# my solution that I tried but doesn't work\n",
    "user_input_list = []\n",
    "\n",
    "def convert_to_string(word):\n",
    "    user_input_list[:0] = word\n",
    "    return user_input_list\n",
    "\n",
    "def number_input_checker(user_number_input):\n",
    "    if (user_number_input > len(user_string_input)):\n",
    "        return \"Number has more characters than word, try again\" \n",
    "\n",
    "def missing_char(user_input_list, index):\n",
    "    user_input_list.remove(index)\n",
    "\n",
    "    return user_input_list\n",
    "\n",
    "\n",
    "user_string_input = str(input(\"Input a word:\"))\n",
    "user_number_input = int(input(\"Input a number:\"))\n",
    "\n",
    "\n",
    "\n",
    "valid_number_input = number_input_checker(user_number_input)\n",
    "\n",
    "user_input_list = convert_to_string(user_string_input)\n",
    "\n",
    "missing_char = missing_char(user_input_list, valid_number_input)\n"
   ]
  },
  {
   "cell_type": "code",
   "execution_count": null,
   "metadata": {},
   "outputs": [],
   "source": [
    "# online help answer \n",
    "def missing_char(word, index):\n",
    "  return word.replace(word[index], \"\",1) \n",
    "\n",
    "missing_char('kitten', 4)"
   ]
  },
  {
   "cell_type": "markdown",
   "metadata": {},
   "source": [
    "# Centered Average\n",
    "\n",
    "Return the \"centered\" average of an array of ints, which we'll say is the mean average of the values, except ignoring the largest and smallest values in the array. If there are multiple copies of the smallest value, ignore just one copy, and likewise for the largest value.  You may assume that the array is length 3 or more and will never contain negative values. \n",
    "* Round your answer to the nearest whole number.\n",
    "\n",
    "```\n",
    "centered_average([1, 2, 3, 4, 100]) → 3\n",
    "centered_average([1, 1, 5, 5, 10, 8, 7]) → 5\n",
    "```"
   ]
  },
  {
   "cell_type": "code",
   "execution_count": null,
   "metadata": {},
   "outputs": [],
   "source": [
    "import math\n",
    "\n",
    "def centered_average(list_of_nums):\n",
    "  items = len(list_of_nums)\n",
    "  total = 0\n",
    "  high = max(list_of_nums)\n",
    "  low = min(list_of_nums)\n",
    "  total = sum(list_of_nums)\n",
    "  average = (total -high-low) / (items-2)\n",
    "  rounded_average = round(average, 0)\n",
    "  return rounded_average \n",
    "\n",
    "centered_average([1,2,3,4,100])\n",
    "centered_average([1, 1, 5, 5, 10, 8, 7])\n"
   ]
  },
  {
   "cell_type": "code",
   "execution_count": null,
   "metadata": {},
   "outputs": [],
   "source": []
  }
 ],
 "metadata": {
  "kernelspec": {
   "display_name": "Python 3",
   "language": "python",
   "name": "python3"
  },
  "language_info": {
   "codemirror_mode": {
    "name": "ipython",
    "version": 3
   },
   "file_extension": ".py",
   "mimetype": "text/x-python",
   "name": "python",
   "nbconvert_exporter": "python",
   "pygments_lexer": "ipython3",
   "version": "3.11.3"
  }
 },
 "nbformat": 4,
 "nbformat_minor": 4
}
